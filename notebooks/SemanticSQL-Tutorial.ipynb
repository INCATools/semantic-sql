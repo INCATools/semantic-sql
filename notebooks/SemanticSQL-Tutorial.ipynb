{
 "cells": [
  {
   "cell_type": "markdown",
   "id": "8e228cd2",
   "metadata": {},
   "source": [
    "# Semantic SQL Tutorial\n",
    "\n",
    "This tutorial assumes you have read introductory material on\n",
    "https://github.com/INCATools/semantic-sql\n",
    "\n",
    "\n"
   ]
  },
  {
   "cell_type": "markdown",
   "id": "d054b9e1",
   "metadata": {},
   "source": [
    "## Part 1: Using SQLite3 directly\n",
    "\n",
    "This part of the tutorial walks through queries using the SQLite interface. No python is required.\n",
    "\n",
    "You can follow along in two ways\n",
    "\n",
    "1. By running this notebook interactively\n",
    "2. By running the commands directly on the command line\n",
    "\n",
    "If you want to follow the second route, you will need to first install sqlite. After that, you can execute\n",
    "any command in this notebook that starts with `%` using the sqlite command line tool."
   ]
  },
  {
   "cell_type": "markdown",
   "id": "d6efc49a",
   "metadata": {},
   "source": [
    "### Download pre-made Cell Ontology db file\n",
    "\n",
    "We will be making use of the [Cell Ontology](https://obofoundry.org/ontology/cl).\n",
    "\n",
    "First we will download the ready-made cl.db file from the SemSQL repository:"
   ]
  },
  {
   "cell_type": "code",
   "execution_count": 1,
   "id": "fc0f0f6d",
   "metadata": {},
   "outputs": [
    {
     "name": "stdout",
     "output_type": "stream",
     "text": [
      "--2022-08-15 15:45:49--  https://s3.amazonaws.com/bbop-sqlite/cl.db\n",
      "Resolving s3.amazonaws.com (s3.amazonaws.com)... 52.216.17.195\n",
      "Connecting to s3.amazonaws.com (s3.amazonaws.com)|52.216.17.195|:443... connected.\n",
      "HTTP request sent, awaiting response... 200 OK\n",
      "Length: 661434368 (631M) [binary/octet-stream]\n",
      "Saving to: ‘cl.db’\n",
      "\n",
      "cl.db               100%[===================>] 630.79M  4.23MB/s    in 1m 58s  \n",
      "\n",
      "2022-08-15 15:47:48 (5.34 MB/s) - ‘cl.db’ saved [661434368/661434368]\n",
      "\n"
     ]
    }
   ],
   "source": [
    "!wget https://s3.amazonaws.com/bbop-sqlite/cl.db -O cl.db"
   ]
  },
  {
   "cell_type": "markdown",
   "id": "12a66ed7",
   "metadata": {},
   "source": [
    "This is quite large so it make take a few minutes depending on your connection.\n",
    "\n",
    "next, some Jupyter magic to connect to cl.db\n",
    "\n",
    "if you are trying this from the command line, instead do this:\n",
    "\n",
    "```\n",
    "sqlite cl.db\n",
    "```"
   ]
  },
  {
   "cell_type": "code",
   "execution_count": 2,
   "id": "7e315028",
   "metadata": {},
   "outputs": [],
   "source": [
    "%load_ext sql"
   ]
  },
  {
   "cell_type": "code",
   "execution_count": 3,
   "id": "549234f7",
   "metadata": {},
   "outputs": [],
   "source": [
    "%sql sqlite:///cl.db"
   ]
  },
  {
   "cell_type": "markdown",
   "id": "ef49e92d",
   "metadata": {},
   "source": [
    "### Exploring CL via labels\n",
    "\n",
    "The [rdfs_label_statement](https://incatools.github.io/semantic-sql/RdfsLabelStatement/) view provides a way to query triples that use rdfs:label.\n",
    "    \n",
    "To get a sample of terms in CL that have a label with `neuron` in it:"
   ]
  },
  {
   "cell_type": "code",
   "execution_count": 4,
   "id": "ce2788cc",
   "metadata": {},
   "outputs": [
    {
     "name": "stdout",
     "output_type": "stream",
     "text": [
      " * sqlite:///cl.db\n",
      "Done.\n"
     ]
    },
    {
     "data": {
      "text/html": [
       "<table>\n",
       "    <tr>\n",
       "        <th>stanza</th>\n",
       "        <th>subject</th>\n",
       "        <th>predicate</th>\n",
       "        <th>object</th>\n",
       "        <th>value</th>\n",
       "        <th>datatype</th>\n",
       "        <th>language</th>\n",
       "    </tr>\n",
       "    <tr>\n",
       "        <td>RO:0002132</td>\n",
       "        <td>RO:0002132</td>\n",
       "        <td>rdfs:label</td>\n",
       "        <td>None</td>\n",
       "        <td>has fasciculating neuron projection</td>\n",
       "        <td>None</td>\n",
       "        <td>en</td>\n",
       "    </tr>\n",
       "    <tr>\n",
       "        <td>CARO:0001001</td>\n",
       "        <td>CARO:0001001</td>\n",
       "        <td>rdfs:label</td>\n",
       "        <td>None</td>\n",
       "        <td>neuron projection bundle</td>\n",
       "        <td>None</td>\n",
       "        <td>None</td>\n",
       "    </tr>\n",
       "    <tr>\n",
       "        <td>CL:0000006</td>\n",
       "        <td>CL:0000006</td>\n",
       "        <td>rdfs:label</td>\n",
       "        <td>None</td>\n",
       "        <td>neuronal receptor cell</td>\n",
       "        <td>xsd:string</td>\n",
       "        <td>None</td>\n",
       "    </tr>\n",
       "    <tr>\n",
       "        <td>CL:0000028</td>\n",
       "        <td>CL:0000028</td>\n",
       "        <td>rdfs:label</td>\n",
       "        <td>None</td>\n",
       "        <td>CNS neuron (sensu Nematoda and Protostomia)</td>\n",
       "        <td>xsd:string</td>\n",
       "        <td>None</td>\n",
       "    </tr>\n",
       "    <tr>\n",
       "        <td>CL:0000029</td>\n",
       "        <td>CL:0000029</td>\n",
       "        <td>rdfs:label</td>\n",
       "        <td>None</td>\n",
       "        <td>neural crest derived neuron</td>\n",
       "        <td>None</td>\n",
       "        <td>None</td>\n",
       "    </tr>\n",
       "    <tr>\n",
       "        <td>CL:0000047</td>\n",
       "        <td>CL:0000047</td>\n",
       "        <td>rdfs:label</td>\n",
       "        <td>None</td>\n",
       "        <td>neuronal stem cell</td>\n",
       "        <td>xsd:string</td>\n",
       "        <td>None</td>\n",
       "    </tr>\n",
       "    <tr>\n",
       "        <td>CL:0000095</td>\n",
       "        <td>CL:0000095</td>\n",
       "        <td>rdfs:label</td>\n",
       "        <td>None</td>\n",
       "        <td>neuron associated cell</td>\n",
       "        <td>xsd:string</td>\n",
       "        <td>None</td>\n",
       "    </tr>\n",
       "    <tr>\n",
       "        <td>CL:0000099</td>\n",
       "        <td>CL:0000099</td>\n",
       "        <td>rdfs:label</td>\n",
       "        <td>None</td>\n",
       "        <td>interneuron</td>\n",
       "        <td>xsd:string</td>\n",
       "        <td>None</td>\n",
       "    </tr>\n",
       "    <tr>\n",
       "        <td>CL:0000100</td>\n",
       "        <td>CL:0000100</td>\n",
       "        <td>rdfs:label</td>\n",
       "        <td>None</td>\n",
       "        <td>motor neuron</td>\n",
       "        <td>xsd:string</td>\n",
       "        <td>None</td>\n",
       "    </tr>\n",
       "    <tr>\n",
       "        <td>CL:0000101</td>\n",
       "        <td>CL:0000101</td>\n",
       "        <td>rdfs:label</td>\n",
       "        <td>None</td>\n",
       "        <td>sensory neuron</td>\n",
       "        <td>xsd:string</td>\n",
       "        <td>None</td>\n",
       "    </tr>\n",
       "</table>"
      ],
      "text/plain": [
       "[('RO:0002132', 'RO:0002132', 'rdfs:label', None, 'has fasciculating neuron projection', None, 'en'),\n",
       " ('CARO:0001001', 'CARO:0001001', 'rdfs:label', None, 'neuron projection bundle', None, None),\n",
       " ('CL:0000006', 'CL:0000006', 'rdfs:label', None, 'neuronal receptor cell', 'xsd:string', None),\n",
       " ('CL:0000028', 'CL:0000028', 'rdfs:label', None, 'CNS neuron (sensu Nematoda and Protostomia)', 'xsd:string', None),\n",
       " ('CL:0000029', 'CL:0000029', 'rdfs:label', None, 'neural crest derived neuron', None, None),\n",
       " ('CL:0000047', 'CL:0000047', 'rdfs:label', None, 'neuronal stem cell', 'xsd:string', None),\n",
       " ('CL:0000095', 'CL:0000095', 'rdfs:label', None, 'neuron associated cell', 'xsd:string', None),\n",
       " ('CL:0000099', 'CL:0000099', 'rdfs:label', None, 'interneuron', 'xsd:string', None),\n",
       " ('CL:0000100', 'CL:0000100', 'rdfs:label', None, 'motor neuron', 'xsd:string', None),\n",
       " ('CL:0000101', 'CL:0000101', 'rdfs:label', None, 'sensory neuron', 'xsd:string', None)]"
      ]
     },
     "execution_count": 4,
     "metadata": {},
     "output_type": "execute_result"
    }
   ],
   "source": [
    "%sql SELECT * FROM rdfs_label_statement WHERE value LIKE '%neuron%' LIMIT 10"
   ]
  },
  {
   "cell_type": "markdown",
   "id": "f56afa5d",
   "metadata": {},
   "source": [
    "You can get an explanation of each column on the page for [rdfs_label_statement](https://incatools.github.io/semantic-sql/RdfsLabelStatement/). Each table and column should have complete definitions and metadata.\n",
    "\n",
    "Note that some columns can be ignored. `object` is always None for rdfs_label_statement. We'll see an explanation later"
   ]
  },
  {
   "cell_type": "markdown",
   "id": "fd2d9726",
   "metadata": {},
   "source": [
    "### Querying all triples\n",
    "\n",
    "Next we will query all triples for \"enteric neuron\" [CL:0007011](http://purl.obolibrary.org/obo/CL_0007011)\n",
    "\n",
    "To do this we will use the [statements](https://incatools.github.io/semantic-sql/Statements/) base table:"
   ]
  },
  {
   "cell_type": "code",
   "execution_count": 7,
   "id": "abdf6b53",
   "metadata": {},
   "outputs": [
    {
     "name": "stdout",
     "output_type": "stream",
     "text": [
      " * sqlite:///cl.db\n",
      "Done.\n"
     ]
    },
    {
     "data": {
      "text/html": [
       "<table>\n",
       "    <tr>\n",
       "        <th>stanza</th>\n",
       "        <th>subject</th>\n",
       "        <th>predicate</th>\n",
       "        <th>object</th>\n",
       "        <th>value</th>\n",
       "        <th>datatype</th>\n",
       "        <th>language</th>\n",
       "    </tr>\n",
       "    <tr>\n",
       "        <td>CL:0007011</td>\n",
       "        <td>CL:0007011</td>\n",
       "        <td>IAO:0000115</td>\n",
       "        <td>None</td>\n",
       "        <td>Neuron that is part of the enteric nervous system.</td>\n",
       "        <td>xsd:string</td>\n",
       "        <td>None</td>\n",
       "    </tr>\n",
       "    <tr>\n",
       "        <td>CL:0007011</td>\n",
       "        <td>CL:0007011</td>\n",
       "        <td>oio:created_by</td>\n",
       "        <td>None</td>\n",
       "        <td>haendel</td>\n",
       "        <td>xsd:string</td>\n",
       "        <td>None</td>\n",
       "    </tr>\n",
       "    <tr>\n",
       "        <td>CL:0007011</td>\n",
       "        <td>CL:0007011</td>\n",
       "        <td>oio:creation_date</td>\n",
       "        <td>None</td>\n",
       "        <td>2012-06-28T08:20:31Z</td>\n",
       "        <td>xsd:string</td>\n",
       "        <td>None</td>\n",
       "    </tr>\n",
       "    <tr>\n",
       "        <td>CL:0007011</td>\n",
       "        <td>CL:0007011</td>\n",
       "        <td>owl:equivalentClass</td>\n",
       "        <td>_:riog00020174</td>\n",
       "        <td>None</td>\n",
       "        <td>None</td>\n",
       "        <td>None</td>\n",
       "    </tr>\n",
       "    <tr>\n",
       "        <td>CL:0007011</td>\n",
       "        <td>CL:0007011</td>\n",
       "        <td>rdf:type</td>\n",
       "        <td>owl:Class</td>\n",
       "        <td>None</td>\n",
       "        <td>None</td>\n",
       "        <td>None</td>\n",
       "    </tr>\n",
       "    <tr>\n",
       "        <td>CL:0007011</td>\n",
       "        <td>CL:0007011</td>\n",
       "        <td>rdfs:label</td>\n",
       "        <td>None</td>\n",
       "        <td>enteric neuron</td>\n",
       "        <td>xsd:string</td>\n",
       "        <td>None</td>\n",
       "    </tr>\n",
       "    <tr>\n",
       "        <td>CL:0007011</td>\n",
       "        <td>CL:0007011</td>\n",
       "        <td>rdfs:subClassOf</td>\n",
       "        <td>_:riog00020181</td>\n",
       "        <td>None</td>\n",
       "        <td>None</td>\n",
       "        <td>None</td>\n",
       "    </tr>\n",
       "    <tr>\n",
       "        <td>CL:0007011</td>\n",
       "        <td>CL:0007011</td>\n",
       "        <td>rdfs:subClassOf</td>\n",
       "        <td>_:riog00020180</td>\n",
       "        <td>None</td>\n",
       "        <td>None</td>\n",
       "        <td>None</td>\n",
       "    </tr>\n",
       "    <tr>\n",
       "        <td>CL:0007011</td>\n",
       "        <td>CL:0007011</td>\n",
       "        <td>rdfs:subClassOf</td>\n",
       "        <td>_:riog00020179</td>\n",
       "        <td>None</td>\n",
       "        <td>None</td>\n",
       "        <td>None</td>\n",
       "    </tr>\n",
       "    <tr>\n",
       "        <td>CL:0007011</td>\n",
       "        <td>CL:0007011</td>\n",
       "        <td>rdfs:subClassOf</td>\n",
       "        <td>CL:0000107</td>\n",
       "        <td>None</td>\n",
       "        <td>None</td>\n",
       "        <td>None</td>\n",
       "    </tr>\n",
       "    <tr>\n",
       "        <td>CL:0007011</td>\n",
       "        <td>CL:0007011</td>\n",
       "        <td>rdfs:subClassOf</td>\n",
       "        <td>CL:0000029</td>\n",
       "        <td>None</td>\n",
       "        <td>None</td>\n",
       "        <td>None</td>\n",
       "    </tr>\n",
       "</table>"
      ],
      "text/plain": [
       "[('CL:0007011', 'CL:0007011', 'IAO:0000115', None, 'Neuron that is part of the enteric nervous system.', 'xsd:string', None),\n",
       " ('CL:0007011', 'CL:0007011', 'oio:created_by', None, 'haendel', 'xsd:string', None),\n",
       " ('CL:0007011', 'CL:0007011', 'oio:creation_date', None, '2012-06-28T08:20:31Z', 'xsd:string', None),\n",
       " ('CL:0007011', 'CL:0007011', 'owl:equivalentClass', '_:riog00020174', None, None, None),\n",
       " ('CL:0007011', 'CL:0007011', 'rdf:type', 'owl:Class', None, None, None),\n",
       " ('CL:0007011', 'CL:0007011', 'rdfs:label', None, 'enteric neuron', 'xsd:string', None),\n",
       " ('CL:0007011', 'CL:0007011', 'rdfs:subClassOf', '_:riog00020181', None, None, None),\n",
       " ('CL:0007011', 'CL:0007011', 'rdfs:subClassOf', '_:riog00020180', None, None, None),\n",
       " ('CL:0007011', 'CL:0007011', 'rdfs:subClassOf', '_:riog00020179', None, None, None),\n",
       " ('CL:0007011', 'CL:0007011', 'rdfs:subClassOf', 'CL:0000107', None, None, None),\n",
       " ('CL:0007011', 'CL:0007011', 'rdfs:subClassOf', 'CL:0000029', None, None, None)]"
      ]
     },
     "execution_count": 7,
     "metadata": {},
     "output_type": "execute_result"
    }
   ],
   "source": [
    "%sql SELECT * FROM statements WHERE subject='CL:0007011'"
   ]
  },
  {
   "cell_type": "markdown",
   "id": "36e9fc50",
   "metadata": {},
   "source": [
    "You will note that this includes odd entries such as `_riog1234`. This is how *blank nodes* are stored in the underlying SQL database.\n",
    "\n",
    "### Views provide convenient abstractions\n",
    "\n",
    "If you are looking at blank nodes, it's an indication that you are working **at too low level of abstraction**. The statements table is the \"foundational\" layer of SemSQL, but unlike with a triplestore, there are ready-made abstractions.\n",
    "\n",
    "The previous [rdfs_label_statement](https://incatools.github.io/semantic-sql/RdfsLabelStatement/) view we used is an example of this. This view is defined as:\n",
    "\n",
    "```\n",
    "CREATE VIEW rdfs_label_statement AS \n",
    "  SELECT * FROM statements\n",
    "  WHERE predicate='rdfs:label'\n",
    "```\n",
    "\n",
    "Views are *composable* ultimately allowing you to create higher level abstractions"
   ]
  },
  {
   "cell_type": "markdown",
   "id": "dded99d7",
   "metadata": {},
   "source": [
    "### Graph structure: Edges\n",
    "\n",
    "Next we will use the [edge](https://incatools.github.io/semantic-sql/Edge/) view to find all outgoing edges from a node.\n",
    "\n",
    "(Note this is actually quite hard to do as an equivalent SPARQL query, since the way OWL stores edges in RDF is quite abstract, using lots of blank nodes)\n",
    "\n",
    "An edge is simply a subject-predicate-object triple. Once again we'll query enteric neuron:"
   ]
  },
  {
   "cell_type": "code",
   "execution_count": 6,
   "id": "6a32dcaa",
   "metadata": {},
   "outputs": [
    {
     "name": "stdout",
     "output_type": "stream",
     "text": [
      " * sqlite:///cl.db\n",
      "Done.\n"
     ]
    },
    {
     "data": {
      "text/html": [
       "<table>\n",
       "    <tr>\n",
       "        <th>subject</th>\n",
       "        <th>predicate</th>\n",
       "        <th>object</th>\n",
       "    </tr>\n",
       "    <tr>\n",
       "        <td>CL:0007011</td>\n",
       "        <td>BFO:0000050</td>\n",
       "        <td>UBERON:0002005</td>\n",
       "    </tr>\n",
       "    <tr>\n",
       "        <td>CL:0007011</td>\n",
       "        <td>RO:0002100</td>\n",
       "        <td>UBERON:0002005</td>\n",
       "    </tr>\n",
       "    <tr>\n",
       "        <td>CL:0007011</td>\n",
       "        <td>RO:0002202</td>\n",
       "        <td>CL:0002607</td>\n",
       "    </tr>\n",
       "    <tr>\n",
       "        <td>CL:0007011</td>\n",
       "        <td>rdfs:subClassOf</td>\n",
       "        <td>CL:0000029</td>\n",
       "    </tr>\n",
       "    <tr>\n",
       "        <td>CL:0007011</td>\n",
       "        <td>rdfs:subClassOf</td>\n",
       "        <td>CL:0000107</td>\n",
       "    </tr>\n",
       "</table>"
      ],
      "text/plain": [
       "[('CL:0007011', 'BFO:0000050', 'UBERON:0002005'),\n",
       " ('CL:0007011', 'RO:0002100', 'UBERON:0002005'),\n",
       " ('CL:0007011', 'RO:0002202', 'CL:0002607'),\n",
       " ('CL:0007011', 'rdfs:subClassOf', 'CL:0000029'),\n",
       " ('CL:0007011', 'rdfs:subClassOf', 'CL:0000107')]"
      ]
     },
     "execution_count": 6,
     "metadata": {},
     "output_type": "execute_result"
    }
   ],
   "source": [
    "%sql SELECT * FROM edge WHERE subject='CL:0007011'"
   ]
  },
  {
   "cell_type": "markdown",
   "id": "6af99bcd",
   "metadata": {},
   "source": [
    "No blank nodes!\n",
    "\n",
    "Next let's make the results a bit more informative by doing a join with the label table:"
   ]
  },
  {
   "cell_type": "code",
   "execution_count": 6,
   "id": "42d88997",
   "metadata": {},
   "outputs": [
    {
     "name": "stdout",
     "output_type": "stream",
     "text": [
      " * sqlite:///cl.db\n",
      "Done.\n"
     ]
    },
    {
     "data": {
      "text/html": [
       "<table>\n",
       "    <tr>\n",
       "        <th>subject</th>\n",
       "        <th>predicate</th>\n",
       "        <th>object</th>\n",
       "        <th>pred_label</th>\n",
       "        <th>object_label</th>\n",
       "    </tr>\n",
       "    <tr>\n",
       "        <td>CL:0007011</td>\n",
       "        <td>BFO:0000050</td>\n",
       "        <td>UBERON:0002005</td>\n",
       "        <td>part_of</td>\n",
       "        <td>enteric nervous system</td>\n",
       "    </tr>\n",
       "    <tr>\n",
       "        <td>CL:0007011</td>\n",
       "        <td>BFO:0000050</td>\n",
       "        <td>UBERON:0002005</td>\n",
       "        <td>part of</td>\n",
       "        <td>enteric nervous system</td>\n",
       "    </tr>\n",
       "    <tr>\n",
       "        <td>CL:0007011</td>\n",
       "        <td>RO:0002100</td>\n",
       "        <td>UBERON:0002005</td>\n",
       "        <td>has soma location</td>\n",
       "        <td>enteric nervous system</td>\n",
       "    </tr>\n",
       "    <tr>\n",
       "        <td>CL:0007011</td>\n",
       "        <td>RO:0002202</td>\n",
       "        <td>CL:0002607</td>\n",
       "        <td>develops_from</td>\n",
       "        <td>migratory enteric neural crest cell</td>\n",
       "    </tr>\n",
       "    <tr>\n",
       "        <td>CL:0007011</td>\n",
       "        <td>RO:0002202</td>\n",
       "        <td>CL:0002607</td>\n",
       "        <td>develops from</td>\n",
       "        <td>migratory enteric neural crest cell</td>\n",
       "    </tr>\n",
       "    <tr>\n",
       "        <td>CL:0007011</td>\n",
       "        <td>rdfs:subClassOf</td>\n",
       "        <td>CL:0000029</td>\n",
       "        <td>None</td>\n",
       "        <td>neural crest derived neuron</td>\n",
       "    </tr>\n",
       "    <tr>\n",
       "        <td>CL:0007011</td>\n",
       "        <td>rdfs:subClassOf</td>\n",
       "        <td>CL:0000107</td>\n",
       "        <td>None</td>\n",
       "        <td>autonomic neuron</td>\n",
       "    </tr>\n",
       "</table>"
      ],
      "text/plain": [
       "[('CL:0007011', 'BFO:0000050', 'UBERON:0002005', 'part_of', 'enteric nervous system'),\n",
       " ('CL:0007011', 'BFO:0000050', 'UBERON:0002005', 'part of', 'enteric nervous system'),\n",
       " ('CL:0007011', 'RO:0002100', 'UBERON:0002005', 'has soma location', 'enteric nervous system'),\n",
       " ('CL:0007011', 'RO:0002202', 'CL:0002607', 'develops_from', 'migratory enteric neural crest cell'),\n",
       " ('CL:0007011', 'RO:0002202', 'CL:0002607', 'develops from', 'migratory enteric neural crest cell'),\n",
       " ('CL:0007011', 'rdfs:subClassOf', 'CL:0000029', None, 'neural crest derived neuron'),\n",
       " ('CL:0007011', 'rdfs:subClassOf', 'CL:0000107', None, 'autonomic neuron')]"
      ]
     },
     "execution_count": 6,
     "metadata": {},
     "output_type": "execute_result"
    }
   ],
   "source": [
    "%%sql\n",
    "SELECT DISTINCT edge.*, pl.value AS pred_label, ol.value AS object_label\n",
    "FROM\n",
    "    edge\n",
    "    LEFT JOIN rdfs_label_statement AS pl ON (edge.predicate=pl.subject)\n",
    "    INNER JOIN rdfs_label_statement AS ol ON (edge.object=ol.subject)\n",
    "WHERE \n",
    "    edge.subject='CL:0007011'\n"
   ]
  },
  {
   "cell_type": "markdown",
   "id": "cf7a0c9b",
   "metadata": {},
   "source": [
    "Note we use a LEFT JOIN for the predicate label, as not all predicates are guaranteed to have a label\n",
    "(particularly builtin ones like rdfs:subClassOf).\n",
    "\n",
    "Unfortunately SQL syntax is a little more verbose than SPARQL here - I find having to write\n",
    "explicit JOIN statements tedious. But one advantage of SQL is that if you find yourself writing\n",
    "the same patterns again and again you can create a VIEW to capture this!"
   ]
  },
  {
   "cell_type": "markdown",
   "id": "5e197cbe",
   "metadata": {},
   "source": [
    "### Entailed edges (ancestors)\n",
    "\n",
    "All SemSQL databases have an ancestor table pre-cached. \n",
    "\n",
    "This is called [entailed_edge](https://incatools.github.io/semantic-sql/EntailedEdge/). It is more sophisticated than\n",
    "a simple transitive closure over the graph. A row is only present in entailed_edge if that edge is *entailed* (inferrable from base axioms) in the ontology.\n",
    "\n",
    "Note this means that you don't need to make any assumptions about the ontology being a DAG. these assumptions are usually false! entailed_edge is guaranteed to give the correct answer. Under the hood, this is built using [relation-graph](https://github.com/balhoff/relation-graph/)"
   ]
  },
  {
   "cell_type": "code",
   "execution_count": 11,
   "id": "f717857e",
   "metadata": {},
   "outputs": [
    {
     "name": "stdout",
     "output_type": "stream",
     "text": [
      " * sqlite:///cl.db\n",
      "Done.\n"
     ]
    },
    {
     "data": {
      "text/html": [
       "<table>\n",
       "    <tr>\n",
       "        <th>subject</th>\n",
       "        <th>predicate</th>\n",
       "        <th>object</th>\n",
       "    </tr>\n",
       "    <tr>\n",
       "        <td>CL:0007011</td>\n",
       "        <td>BFO:0000050</td>\n",
       "        <td>BFO:0000002</td>\n",
       "    </tr>\n",
       "    <tr>\n",
       "        <td>CL:0007011</td>\n",
       "        <td>BFO:0000050</td>\n",
       "        <td>BFO:0000004</td>\n",
       "    </tr>\n",
       "    <tr>\n",
       "        <td>CL:0007011</td>\n",
       "        <td>BFO:0000050</td>\n",
       "        <td>BFO:0000040</td>\n",
       "    </tr>\n",
       "    <tr>\n",
       "        <td>CL:0007011</td>\n",
       "        <td>BFO:0000050</td>\n",
       "        <td>CARO:0000000</td>\n",
       "    </tr>\n",
       "    <tr>\n",
       "        <td>CL:0007011</td>\n",
       "        <td>BFO:0000050</td>\n",
       "        <td>CARO:0000006</td>\n",
       "    </tr>\n",
       "    <tr>\n",
       "        <td>CL:0007011</td>\n",
       "        <td>BFO:0000050</td>\n",
       "        <td>CARO:0030000</td>\n",
       "    </tr>\n",
       "    <tr>\n",
       "        <td>CL:0007011</td>\n",
       "        <td>BFO:0000050</td>\n",
       "        <td>UBERON:0000010</td>\n",
       "    </tr>\n",
       "    <tr>\n",
       "        <td>CL:0007011</td>\n",
       "        <td>BFO:0000050</td>\n",
       "        <td>UBERON:0000061</td>\n",
       "    </tr>\n",
       "    <tr>\n",
       "        <td>CL:0007011</td>\n",
       "        <td>BFO:0000050</td>\n",
       "        <td>UBERON:0000465</td>\n",
       "    </tr>\n",
       "    <tr>\n",
       "        <td>CL:0007011</td>\n",
       "        <td>BFO:0000050</td>\n",
       "        <td>UBERON:0000467</td>\n",
       "    </tr>\n",
       "    <tr>\n",
       "        <td>CL:0007011</td>\n",
       "        <td>BFO:0000050</td>\n",
       "        <td>UBERON:0000468</td>\n",
       "    </tr>\n",
       "    <tr>\n",
       "        <td>CL:0007011</td>\n",
       "        <td>BFO:0000050</td>\n",
       "        <td>UBERON:0001016</td>\n",
       "    </tr>\n",
       "    <tr>\n",
       "        <td>CL:0007011</td>\n",
       "        <td>BFO:0000050</td>\n",
       "        <td>UBERON:0001062</td>\n",
       "    </tr>\n",
       "    <tr>\n",
       "        <td>CL:0007011</td>\n",
       "        <td>BFO:0000050</td>\n",
       "        <td>UBERON:0002005</td>\n",
       "    </tr>\n",
       "    <tr>\n",
       "        <td>CL:0007011</td>\n",
       "        <td>BFO:0000050</td>\n",
       "        <td>UBERON:0002410</td>\n",
       "    </tr>\n",
       "    <tr>\n",
       "        <td>CL:0007011</td>\n",
       "        <td>BFO:0000050</td>\n",
       "        <td>UBERON:0010000</td>\n",
       "    </tr>\n",
       "    <tr>\n",
       "        <td>CL:0007011</td>\n",
       "        <td>BFO:0000050</td>\n",
       "        <td>UBERON:0011216</td>\n",
       "    </tr>\n",
       "    <tr>\n",
       "        <td>CL:0007011</td>\n",
       "        <td>RO:0002100</td>\n",
       "        <td>BFO:0000002</td>\n",
       "    </tr>\n",
       "    <tr>\n",
       "        <td>CL:0007011</td>\n",
       "        <td>RO:0002100</td>\n",
       "        <td>BFO:0000004</td>\n",
       "    </tr>\n",
       "    <tr>\n",
       "        <td>CL:0007011</td>\n",
       "        <td>RO:0002100</td>\n",
       "        <td>BFO:0000040</td>\n",
       "    </tr>\n",
       "</table>"
      ],
      "text/plain": [
       "[('CL:0007011', 'BFO:0000050', 'BFO:0000002'),\n",
       " ('CL:0007011', 'BFO:0000050', 'BFO:0000004'),\n",
       " ('CL:0007011', 'BFO:0000050', 'BFO:0000040'),\n",
       " ('CL:0007011', 'BFO:0000050', 'CARO:0000000'),\n",
       " ('CL:0007011', 'BFO:0000050', 'CARO:0000006'),\n",
       " ('CL:0007011', 'BFO:0000050', 'CARO:0030000'),\n",
       " ('CL:0007011', 'BFO:0000050', 'UBERON:0000010'),\n",
       " ('CL:0007011', 'BFO:0000050', 'UBERON:0000061'),\n",
       " ('CL:0007011', 'BFO:0000050', 'UBERON:0000465'),\n",
       " ('CL:0007011', 'BFO:0000050', 'UBERON:0000467'),\n",
       " ('CL:0007011', 'BFO:0000050', 'UBERON:0000468'),\n",
       " ('CL:0007011', 'BFO:0000050', 'UBERON:0001016'),\n",
       " ('CL:0007011', 'BFO:0000050', 'UBERON:0001062'),\n",
       " ('CL:0007011', 'BFO:0000050', 'UBERON:0002005'),\n",
       " ('CL:0007011', 'BFO:0000050', 'UBERON:0002410'),\n",
       " ('CL:0007011', 'BFO:0000050', 'UBERON:0010000'),\n",
       " ('CL:0007011', 'BFO:0000050', 'UBERON:0011216'),\n",
       " ('CL:0007011', 'RO:0002100', 'BFO:0000002'),\n",
       " ('CL:0007011', 'RO:0002100', 'BFO:0000004'),\n",
       " ('CL:0007011', 'RO:0002100', 'BFO:0000040')]"
      ]
     },
     "execution_count": 11,
     "metadata": {},
     "output_type": "execute_result"
    }
   ],
   "source": [
    "%sql SELECT * FROM entailed_edge WHERE subject='CL:0007011' LIMIT 20"
   ]
  },
  {
   "cell_type": "markdown",
   "id": "3c2bc553",
   "metadata": {},
   "source": [
    "### Complex queries\n",
    "\n",
    "One advantage of a query layer such as SQL or SPARQL is being able to write arbitrarily complex queries in a declarative fashion.\n",
    "\n",
    "Let's explore a query over CL to fetch all neurons that are part of the forebrain"
   ]
  },
  {
   "cell_type": "code",
   "execution_count": 40,
   "id": "c4ad2128",
   "metadata": {},
   "outputs": [
    {
     "name": "stdout",
     "output_type": "stream",
     "text": [
      " * sqlite:///cl.db\n",
      "Done.\n"
     ]
    },
    {
     "data": {
      "text/html": [
       "<table>\n",
       "    <tr>\n",
       "        <th>subject</th>\n",
       "        <th>value</th>\n",
       "    </tr>\n",
       "    <tr>\n",
       "        <td>CL:0000626</td>\n",
       "        <td>olfactory granule cell</td>\n",
       "    </tr>\n",
       "    <tr>\n",
       "        <td>CL:0001032</td>\n",
       "        <td>cortical granule cell</td>\n",
       "    </tr>\n",
       "    <tr>\n",
       "        <td>CL:0001033</td>\n",
       "        <td>hippocampal granule cell</td>\n",
       "    </tr>\n",
       "    <tr>\n",
       "        <td>CL:0002608</td>\n",
       "        <td>hippocampal neuron</td>\n",
       "    </tr>\n",
       "    <tr>\n",
       "        <td>CL:0002613</td>\n",
       "        <td>striatum neuron</td>\n",
       "    </tr>\n",
       "    <tr>\n",
       "        <td>CL:0008031</td>\n",
       "        <td>cortical interneuron</td>\n",
       "    </tr>\n",
       "    <tr>\n",
       "        <td>CL:0008032</td>\n",
       "        <td>rosehip neuron</td>\n",
       "    </tr>\n",
       "    <tr>\n",
       "        <td>CL:0008049</td>\n",
       "        <td>Betz cell</td>\n",
       "    </tr>\n",
       "    <tr>\n",
       "        <td>CL:0010011</td>\n",
       "        <td>cerebral cortex GABAergic interneuron</td>\n",
       "    </tr>\n",
       "    <tr>\n",
       "        <td>CL:0010012</td>\n",
       "        <td>cerebral cortex neuron</td>\n",
       "    </tr>\n",
       "    <tr>\n",
       "        <td>CL:0011003</td>\n",
       "        <td>magnocellular neurosecretory cell</td>\n",
       "    </tr>\n",
       "    <tr>\n",
       "        <td>CL:0012001</td>\n",
       "        <td>neuron of the forebrain</td>\n",
       "    </tr>\n",
       "    <tr>\n",
       "        <td>CL:1001434</td>\n",
       "        <td>olfactory bulb interneuron</td>\n",
       "    </tr>\n",
       "    <tr>\n",
       "        <td>CL:1001435</td>\n",
       "        <td>periglomerular cell</td>\n",
       "    </tr>\n",
       "    <tr>\n",
       "        <td>CL:1001502</td>\n",
       "        <td>mitral cell</td>\n",
       "    </tr>\n",
       "    <tr>\n",
       "        <td>CL:1001571</td>\n",
       "        <td>hippocampal pyramidal neuron</td>\n",
       "    </tr>\n",
       "    <tr>\n",
       "        <td>CL:1001582</td>\n",
       "        <td>lateral ventricle neuron</td>\n",
       "    </tr>\n",
       "    <tr>\n",
       "        <td>CL:2000049</td>\n",
       "        <td>primary motor cortex pyramidal cell</td>\n",
       "    </tr>\n",
       "    <tr>\n",
       "        <td>CL:2000056</td>\n",
       "        <td>Meynert cell</td>\n",
       "    </tr>\n",
       "    <tr>\n",
       "        <td>CL:2000086</td>\n",
       "        <td>neocortex basket cell</td>\n",
       "    </tr>\n",
       "</table>"
      ],
      "text/plain": [
       "[('CL:0000626', 'olfactory granule cell'),\n",
       " ('CL:0001032', 'cortical granule cell'),\n",
       " ('CL:0001033', 'hippocampal granule cell'),\n",
       " ('CL:0002608', 'hippocampal neuron'),\n",
       " ('CL:0002613', 'striatum neuron'),\n",
       " ('CL:0008031', 'cortical interneuron'),\n",
       " ('CL:0008032', 'rosehip neuron'),\n",
       " ('CL:0008049', 'Betz cell'),\n",
       " ('CL:0010011', 'cerebral cortex GABAergic interneuron'),\n",
       " ('CL:0010012', 'cerebral cortex neuron'),\n",
       " ('CL:0011003', 'magnocellular neurosecretory cell'),\n",
       " ('CL:0012001', 'neuron of the forebrain'),\n",
       " ('CL:1001434', 'olfactory bulb interneuron'),\n",
       " ('CL:1001435', 'periglomerular cell'),\n",
       " ('CL:1001502', 'mitral cell'),\n",
       " ('CL:1001571', 'hippocampal pyramidal neuron'),\n",
       " ('CL:1001582', 'lateral ventricle neuron'),\n",
       " ('CL:2000049', 'primary motor cortex pyramidal cell'),\n",
       " ('CL:2000056', 'Meynert cell'),\n",
       " ('CL:2000086', 'neocortex basket cell')]"
      ]
     },
     "execution_count": 40,
     "metadata": {},
     "output_type": "execute_result"
    }
   ],
   "source": [
    "%%sql \n",
    "SELECT DISTINCT lbl.subject, lbl.value \n",
    "FROM \n",
    "  entailed_edge AS e_neuron,\n",
    "  entailed_edge AS e_forebrain,\n",
    "  rdfs_label_statement AS lbl\n",
    "WHERE \n",
    "  e_neuron.object='CL:0000540' AND\n",
    "  e_forebrain.object='UBERON:0001890' AND\n",
    "  e_neuron.predicate = 'rdfs:subClassOf' AND\n",
    "  e_forebrain.predicate = 'RO:0002100' AND\n",
    "  e_neuron.subject=e_forebrain.subject AND\n",
    "  e_neuron.subject = lbl.subject\n",
    "LIMIT 20    "
   ]
  },
  {
   "cell_type": "markdown",
   "id": "7ce44785",
   "metadata": {},
   "source": [
    "## Part 2: Using Python and SQL Alchemy\n",
    "\n",
    "Next we will explore programmatic usage using Python. If you are an experienced developer it should be possible\n",
    "for you to see how to adapt this to your language of choice.\n",
    "\n",
    "This part is in two sub-parts:\n",
    "\n",
    "- 2.1: direct SQL queries (no ORM)\n",
    "- 2.2: using the SemSQL ORM\n",
    "\n",
    "### 2.1 Direct SQL queries\n",
    "\n",
    "First we will make a SQL Alchemy connection"
   ]
  },
  {
   "cell_type": "code",
   "execution_count": 7,
   "id": "ce6313c3",
   "metadata": {},
   "outputs": [],
   "source": [
    "from sqlalchemy import create_engine"
   ]
  },
  {
   "cell_type": "code",
   "execution_count": 10,
   "id": "bdfd9395",
   "metadata": {},
   "outputs": [],
   "source": [
    "# next we will create an engine and connection\n",
    "engine = create_engine(f\"sqlite:///cl.db\")\n",
    "conn = engine.connect()"
   ]
  },
  {
   "cell_type": "code",
   "execution_count": 19,
   "id": "f4871bf5",
   "metadata": {},
   "outputs": [],
   "source": [
    "# first example: hardcode the term of interest\n",
    "result = conn.execute(\"SELECT * FROM edge WHERE subject='CL:0007011'\")"
   ]
  },
  {
   "cell_type": "code",
   "execution_count": 12,
   "id": "03379748",
   "metadata": {},
   "outputs": [
    {
     "name": "stdout",
     "output_type": "stream",
     "text": [
      "('CL:0007011', 'BFO:0000050', 'UBERON:0002005')\n",
      "('CL:0007011', 'RO:0002100', 'UBERON:0002005')\n",
      "('CL:0007011', 'RO:0002202', 'CL:0002607')\n",
      "('CL:0007011', 'rdfs:subClassOf', 'CL:0000029')\n",
      "('CL:0007011', 'rdfs:subClassOf', 'CL:0000107')\n"
     ]
    }
   ],
   "source": [
    "for row in result:\n",
    "    print(row)"
   ]
  },
  {
   "cell_type": "markdown",
   "id": "ea2a7f65",
   "metadata": {},
   "source": [
    "#### Parameterizing queries using text()\n",
    "\n",
    "For more background see [using textual sql](https://docs.sqlalchemy.org/en/14/core/tutorial.html#using-textual-sql)"
   ]
  },
  {
   "cell_type": "code",
   "execution_count": 13,
   "id": "6de61ca8",
   "metadata": {},
   "outputs": [],
   "source": [
    "from sqlalchemy.sql import text"
   ]
  },
  {
   "cell_type": "code",
   "execution_count": 14,
   "id": "ab7ef1a9",
   "metadata": {},
   "outputs": [],
   "source": [
    "edge_query = text(\"SELECT * FROM edge WHERE subject=:subject\")"
   ]
  },
  {
   "cell_type": "code",
   "execution_count": 16,
   "id": "b67d11ac",
   "metadata": {},
   "outputs": [
    {
     "name": "stdout",
     "output_type": "stream",
     "text": [
      "('CL:0007011', 'BFO:0000050', 'UBERON:0002005')\n",
      "('CL:0007011', 'RO:0002100', 'UBERON:0002005')\n",
      "('CL:0007011', 'RO:0002202', 'CL:0002607')\n",
      "('CL:0007011', 'rdfs:subClassOf', 'CL:0000029')\n",
      "('CL:0007011', 'rdfs:subClassOf', 'CL:0000107')\n"
     ]
    }
   ],
   "source": [
    "for row in conn.execute(edge_query, subject='CL:0007011'):\n",
    "    print(row)"
   ]
  },
  {
   "cell_type": "markdown",
   "id": "ec272df0",
   "metadata": {},
   "source": [
    "### 2.2 Using the SemSQL ORM\n",
    "\n",
    "An ORM (Object-Relational Mapper) can help bridge the gap between logic in a language like Python and a SQL database.\n",
    "\n",
    "ORMs are divisive: some people love them, some hate them! Like most tools they have advantages and disadvantages.\n",
    "For our purposes, ORMs can better expose your underlying data model so you can get typing and autocomplete\n",
    "assistance from your IDE (or here, in Jupyter).\n",
    "\n",
    "However, you might want to avoid ORMs for scenarios where performance is key.\n",
    "\n",
    "We will give an example of doing things using the SQL Alchemy ORM using SemSQL ORM classes.\n",
    "\n",
    "This tutorial doesn't substitute for a full-blown SQL Alahcmey tutorial. Please consult https://docs.sqlalchemy.org/en/14/orm/ for more docs\n",
    "\n",
    "Let's get started by importing the relevant classes and methods, from SQLA and from SemSQL:"
   ]
  },
  {
   "cell_type": "code",
   "execution_count": 22,
   "id": "197e14bb",
   "metadata": {},
   "outputs": [],
   "source": [
    "from sqlalchemy.orm import sessionmaker, aliased\n",
    "from semsql.sqla.semsql import *"
   ]
  },
  {
   "cell_type": "code",
   "execution_count": 23,
   "id": "aafc4e90",
   "metadata": {},
   "outputs": [],
   "source": [
    "# create an ORM session\n",
    "SessionClass = sessionmaker(bind=engine)\n",
    "session = SessionClass()"
   ]
  },
  {
   "cell_type": "markdown",
   "id": "25321632",
   "metadata": {},
   "source": [
    "#### Querying edges with the ORM\n",
    "\n",
    "Next we will do the equivalent of the edge query above, but this time using the Edge class in the ORM."
   ]
  },
  {
   "cell_type": "code",
   "execution_count": 27,
   "id": "9658fb60",
   "metadata": {},
   "outputs": [
    {
     "name": "stdout",
     "output_type": "stream",
     "text": [
      "edge(subject=CL:0007011,predicate=BFO:0000050,object=UBERON:0002005,)\n",
      "edge(subject=CL:0007011,predicate=RO:0002100,object=UBERON:0002005,)\n",
      "edge(subject=CL:0007011,predicate=RO:0002202,object=CL:0002607,)\n",
      "edge(subject=CL:0007011,predicate=rdfs:subClassOf,object=CL:0000029,)\n",
      "edge(subject=CL:0007011,predicate=rdfs:subClassOf,object=CL:0000107,)\n"
     ]
    }
   ],
   "source": [
    "for row in session.query(Edge).filter(Edge.subject=='CL:0007011'):\n",
    "    print(row)"
   ]
  },
  {
   "cell_type": "markdown",
   "id": "445313a4",
   "metadata": {},
   "source": [
    "#### Query composition with the ORM\n",
    "\n",
    "One advantage of the ORM is being able to compose together query logic and avoiding SQL string concatenation"
   ]
  },
  {
   "cell_type": "code",
   "execution_count": 33,
   "id": "300942c3",
   "metadata": {},
   "outputs": [
    {
     "name": "stdout",
     "output_type": "stream",
     "text": [
      "rdfs:subClassOf CL:0000029 neural crest derived neuron\n",
      "rdfs:subClassOf CL:0000107 autonomic neuron\n",
      "RO:0002202 CL:0002607 migratory enteric neural crest cell\n",
      "BFO:0000050 UBERON:0002005 enteric nervous system\n",
      "RO:0002100 UBERON:0002005 enteric nervous system\n"
     ]
    }
   ],
   "source": [
    "for edge, lbl in session.query(Edge, RdfsLabelStatement).join(RdfsLabelStatement, RdfsLabelStatement.subject==Edge.object).filter(Edge.subject=='CL:0007011'):\n",
    "    print(f\"{edge.predicate} {edge.object} {lbl.value}\")"
   ]
  },
  {
   "cell_type": "markdown",
   "id": "e3572683",
   "metadata": {},
   "source": [
    "That's maybe getting quite verbose for one line, so we can break it down:\n"
   ]
  },
  {
   "cell_type": "code",
   "execution_count": 35,
   "id": "93c7aeb9",
   "metadata": {},
   "outputs": [
    {
     "name": "stdout",
     "output_type": "stream",
     "text": [
      "rdfs:subClassOf CL:0000029 neural crest derived neuron\n",
      "rdfs:subClassOf CL:0000107 autonomic neuron\n",
      "RO:0002202 CL:0002607 migratory enteric neural crest cell\n",
      "BFO:0000050 UBERON:0002005 enteric nervous system\n",
      "RO:0002100 UBERON:0002005 enteric nervous system\n"
     ]
    }
   ],
   "source": [
    "q = session.query(Edge, RdfsLabelStatement)\n",
    "q = q.join(RdfsLabelStatement, RdfsLabelStatement.subject==Edge.object)\n",
    "q = q.filter(Edge.subject=='CL:0007011')\n",
    " \n",
    "for edge, lbl in q:\n",
    "    print(f\"{edge.predicate} {edge.object} {lbl.value}\")"
   ]
  },
  {
   "cell_type": "markdown",
   "id": "f5e2454d",
   "metadata": {},
   "source": [
    "SQLA uses the builder pattern for queries, allowing us to keep composing new joins and constraints.\n",
    "\n",
    "Here we can see how to build up a complex query programmatically."
   ]
  },
  {
   "cell_type": "markdown",
   "id": "c708b832",
   "metadata": {},
   "source": [
    "### Introspecting ORM classes\n",
    "\n",
    "These can be introspected in Jupyter or in your IDE\n",
    "\n",
    "Currently this is a bit verbose..."
   ]
  },
  {
   "cell_type": "code",
   "execution_count": 28,
   "id": "d9f7ee02",
   "metadata": {},
   "outputs": [
    {
     "name": "stdout",
     "output_type": "stream",
     "text": [
      "Help on class Edge in module semsql.sqla.semsql:\n",
      "\n",
      "class Edge(RelationGraphConstruct)\n",
      " |  Edge(**kwargs)\n",
      " |  \n",
      " |  A relation graph edge that connects two entities by a predicate. Note an edge is distinct from a statement, in that an axiom such as A SubClassOf R some B is represented as multiple statements, but is a single relation graph edge\n",
      " |  \n",
      " |  Method resolution order:\n",
      " |      Edge\n",
      " |      RelationGraphConstruct\n",
      " |      sqlalchemy.orm.decl_api.Base\n",
      " |      builtins.object\n",
      " |  \n",
      " |  Methods defined here:\n",
      " |  \n",
      " |  __init__(self, **kwargs)\n",
      " |      A simple constructor that allows initialization from kwargs.\n",
      " |      \n",
      " |      Sets attributes on the constructed instance using the names and\n",
      " |      values in ``kwargs``.\n",
      " |      \n",
      " |      Only keys that are present as\n",
      " |      attributes of the instance's class are allowed. These could be,\n",
      " |      for example, any mapped columns or relationships.\n",
      " |  \n",
      " |  __repr__(self)\n",
      " |      Return repr(self).\n",
      " |  \n",
      " |  ----------------------------------------------------------------------\n",
      " |  Data descriptors defined here:\n",
      " |  \n",
      " |  object\n",
      " |  \n",
      " |  predicate\n",
      " |  \n",
      " |  subject\n",
      " |  \n",
      " |  ----------------------------------------------------------------------\n",
      " |  Data and other attributes defined here:\n",
      " |  \n",
      " |  __mapper__ = <Mapper at 0x7fdfe078cee0; Edge>\n",
      " |  \n",
      " |  __mapper_args__ = {'concrete': True}\n",
      " |  \n",
      " |  __table__ = Table('edge', MetaData(), Column('subject', Text..., prima...\n",
      " |  \n",
      " |  __tablename__ = 'edge'\n",
      " |  \n",
      " |  ----------------------------------------------------------------------\n",
      " |  Data descriptors inherited from sqlalchemy.orm.decl_api.Base:\n",
      " |  \n",
      " |  __dict__\n",
      " |      dictionary for instance variables (if defined)\n",
      " |  \n",
      " |  __weakref__\n",
      " |      list of weak references to the object (if defined)\n",
      " |  \n",
      " |  ----------------------------------------------------------------------\n",
      " |  Data and other attributes inherited from sqlalchemy.orm.decl_api.Base:\n",
      " |  \n",
      " |  __abstract__ = True\n",
      " |  \n",
      " |  metadata = MetaData()\n",
      " |  \n",
      " |  registry = <sqlalchemy.orm.decl_api.registry object>\n",
      "\n"
     ]
    }
   ],
   "source": [
    "help(Edge)"
   ]
  },
  {
   "cell_type": "markdown",
   "id": "90798337",
   "metadata": {},
   "source": [
    "## Next Steps\n",
    "\n",
    "At the end of this tutorial you should have an idea of\n",
    "\n",
    "- how to download a SQLite database from the SemSQL repo\n",
    "- the basics of how tables and views are organized in a SemSQL sqlite database\n",
    "- how to do basic queries using the SQLite command line interface\n",
    "- how to find out more about existing views and tables\n",
    "- how to access SemSQL database programmatically via Python\n",
    "- how to use the ORM\n",
    "\n",
    "For many purposes it might not be necessary to write your own code\n",
    "\n",
    "[OAK](https://incatools.github.io/ontology-access-kit) provides an abstraction layer on top of different endpoints, including Semantic-SQL. For some operations it may be better querying via an OAK interface\n",
    "\n",
    "See also:\n",
    "\n",
    "https://incatools.github.io/ontology-access-kit/intro/tutorial07.html"
   ]
  },
  {
   "cell_type": "code",
   "execution_count": null,
   "id": "58ed549d",
   "metadata": {},
   "outputs": [],
   "source": []
  }
 ],
 "metadata": {
  "kernelspec": {
   "display_name": "Python 3 (ipykernel)",
   "language": "python",
   "name": "python3"
  },
  "language_info": {
   "codemirror_mode": {
    "name": "ipython",
    "version": 3
   },
   "file_extension": ".py",
   "mimetype": "text/x-python",
   "name": "python",
   "nbconvert_exporter": "python",
   "pygments_lexer": "ipython3",
   "version": "3.9.5"
  }
 },
 "nbformat": 4,
 "nbformat_minor": 5
}
